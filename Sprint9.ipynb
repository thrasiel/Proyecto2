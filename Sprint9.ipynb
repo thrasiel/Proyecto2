{
 "cells": [
  {
   "cell_type": "markdown",
   "metadata": {},
   "source": [
    "# Sprint 9 - Introducción al Machine Learning"
   ]
  },
  {
   "cell_type": "markdown",
   "metadata": {},
   "source": [
    "## Introducción \n",
    "\n",
    "\n",
    "Para este proyecto, trabajamos para la compañía móvil Megaline, la cual no está satisfecha al ver que muchos de sus clientes utilizan planes heredados. Quieren desarrollar un modelo que pueda analizar el comportamiento de los clientes y recomendar uno de los nuevos planes de Megaline: Smart o Ultra.\n",
    "\n",
    "Para esta tarea de clasificación se creará un modelo que escoja el plan correcto. Las condicionantes son desarrollar un modelo con la mayor exactitud posible, para el cual el umbral de exactitud es 0,75."
   ]
  },
  {
   "cell_type": "markdown",
   "metadata": {},
   "source": [
    "## Inicialización\n",
    "\n",
    "Iniciamos con la importación de las librerías requeridas para el proyecto."
   ]
  },
  {
   "cell_type": "code",
   "execution_count": 76,
   "metadata": {},
   "outputs": [],
   "source": [
    "import pandas as pd\n",
    "from sklearn.tree import DecisionTreeClassifier\n",
    "from sklearn.model_selection import train_test_split\n",
    "from sklearn.ensemble import RandomForestClassifier\n",
    "from sklearn.linear_model import LogisticRegression"
   ]
  },
  {
   "cell_type": "markdown",
   "metadata": {},
   "source": [
    "## Carga de Datos\n",
    "\n",
    "Continuamos con la lectura de dataset, revisando que el separador por defecto sea efectivamente el que necesitamos. Para ello, imprimimos una muestra."
   ]
  },
  {
   "cell_type": "code",
   "execution_count": 2,
   "metadata": {},
   "outputs": [
    {
     "data": {
      "text/html": [
       "<div>\n",
       "<style scoped>\n",
       "    .dataframe tbody tr th:only-of-type {\n",
       "        vertical-align: middle;\n",
       "    }\n",
       "\n",
       "    .dataframe tbody tr th {\n",
       "        vertical-align: top;\n",
       "    }\n",
       "\n",
       "    .dataframe thead th {\n",
       "        text-align: right;\n",
       "    }\n",
       "</style>\n",
       "<table border=\"1\" class=\"dataframe\">\n",
       "  <thead>\n",
       "    <tr style=\"text-align: right;\">\n",
       "      <th></th>\n",
       "      <th>calls</th>\n",
       "      <th>minutes</th>\n",
       "      <th>messages</th>\n",
       "      <th>mb_used</th>\n",
       "      <th>is_ultra</th>\n",
       "    </tr>\n",
       "  </thead>\n",
       "  <tbody>\n",
       "    <tr>\n",
       "      <th>2252</th>\n",
       "      <td>133.0</td>\n",
       "      <td>949.36</td>\n",
       "      <td>0.0</td>\n",
       "      <td>19036.43</td>\n",
       "      <td>1</td>\n",
       "    </tr>\n",
       "    <tr>\n",
       "      <th>2688</th>\n",
       "      <td>57.0</td>\n",
       "      <td>371.55</td>\n",
       "      <td>16.0</td>\n",
       "      <td>12283.46</td>\n",
       "      <td>0</td>\n",
       "    </tr>\n",
       "    <tr>\n",
       "      <th>1332</th>\n",
       "      <td>67.0</td>\n",
       "      <td>506.16</td>\n",
       "      <td>0.0</td>\n",
       "      <td>23867.03</td>\n",
       "      <td>1</td>\n",
       "    </tr>\n",
       "    <tr>\n",
       "      <th>1379</th>\n",
       "      <td>77.0</td>\n",
       "      <td>480.37</td>\n",
       "      <td>33.0</td>\n",
       "      <td>20586.08</td>\n",
       "      <td>0</td>\n",
       "    </tr>\n",
       "    <tr>\n",
       "      <th>1445</th>\n",
       "      <td>49.0</td>\n",
       "      <td>338.00</td>\n",
       "      <td>13.0</td>\n",
       "      <td>16963.20</td>\n",
       "      <td>0</td>\n",
       "    </tr>\n",
       "  </tbody>\n",
       "</table>\n",
       "</div>"
      ],
      "text/plain": [
       "      calls  minutes  messages   mb_used  is_ultra\n",
       "2252  133.0   949.36       0.0  19036.43         1\n",
       "2688   57.0   371.55      16.0  12283.46         0\n",
       "1332   67.0   506.16       0.0  23867.03         1\n",
       "1379   77.0   480.37      33.0  20586.08         0\n",
       "1445   49.0   338.00      13.0  16963.20         0"
      ]
     },
     "execution_count": 2,
     "metadata": {},
     "output_type": "execute_result"
    }
   ],
   "source": [
    "df = pd.read_csv(\"/datasets/users_behavior.csv\")\n",
    "df.sample(5)"
   ]
  },
  {
   "cell_type": "code",
   "execution_count": 3,
   "metadata": {},
   "outputs": [
    {
     "name": "stdout",
     "output_type": "stream",
     "text": [
      "<class 'pandas.core.frame.DataFrame'>\n",
      "RangeIndex: 3214 entries, 0 to 3213\n",
      "Data columns (total 5 columns):\n",
      " #   Column    Non-Null Count  Dtype  \n",
      "---  ------    --------------  -----  \n",
      " 0   calls     3214 non-null   float64\n",
      " 1   minutes   3214 non-null   float64\n",
      " 2   messages  3214 non-null   float64\n",
      " 3   mb_used   3214 non-null   float64\n",
      " 4   is_ultra  3214 non-null   int64  \n",
      "dtypes: float64(4), int64(1)\n",
      "memory usage: 125.7 KB\n"
     ]
    },
    {
     "data": {
      "text/html": [
       "<div>\n",
       "<style scoped>\n",
       "    .dataframe tbody tr th:only-of-type {\n",
       "        vertical-align: middle;\n",
       "    }\n",
       "\n",
       "    .dataframe tbody tr th {\n",
       "        vertical-align: top;\n",
       "    }\n",
       "\n",
       "    .dataframe thead th {\n",
       "        text-align: right;\n",
       "    }\n",
       "</style>\n",
       "<table border=\"1\" class=\"dataframe\">\n",
       "  <thead>\n",
       "    <tr style=\"text-align: right;\">\n",
       "      <th></th>\n",
       "      <th>calls</th>\n",
       "      <th>minutes</th>\n",
       "      <th>messages</th>\n",
       "      <th>mb_used</th>\n",
       "      <th>is_ultra</th>\n",
       "    </tr>\n",
       "  </thead>\n",
       "  <tbody>\n",
       "    <tr>\n",
       "      <th>count</th>\n",
       "      <td>3214.000000</td>\n",
       "      <td>3214.000000</td>\n",
       "      <td>3214.000000</td>\n",
       "      <td>3214.000000</td>\n",
       "      <td>3214.000000</td>\n",
       "    </tr>\n",
       "    <tr>\n",
       "      <th>mean</th>\n",
       "      <td>63.038892</td>\n",
       "      <td>438.208787</td>\n",
       "      <td>38.281269</td>\n",
       "      <td>17207.673836</td>\n",
       "      <td>0.306472</td>\n",
       "    </tr>\n",
       "    <tr>\n",
       "      <th>std</th>\n",
       "      <td>33.236368</td>\n",
       "      <td>234.569872</td>\n",
       "      <td>36.148326</td>\n",
       "      <td>7570.968246</td>\n",
       "      <td>0.461100</td>\n",
       "    </tr>\n",
       "    <tr>\n",
       "      <th>min</th>\n",
       "      <td>0.000000</td>\n",
       "      <td>0.000000</td>\n",
       "      <td>0.000000</td>\n",
       "      <td>0.000000</td>\n",
       "      <td>0.000000</td>\n",
       "    </tr>\n",
       "    <tr>\n",
       "      <th>25%</th>\n",
       "      <td>40.000000</td>\n",
       "      <td>274.575000</td>\n",
       "      <td>9.000000</td>\n",
       "      <td>12491.902500</td>\n",
       "      <td>0.000000</td>\n",
       "    </tr>\n",
       "    <tr>\n",
       "      <th>50%</th>\n",
       "      <td>62.000000</td>\n",
       "      <td>430.600000</td>\n",
       "      <td>30.000000</td>\n",
       "      <td>16943.235000</td>\n",
       "      <td>0.000000</td>\n",
       "    </tr>\n",
       "    <tr>\n",
       "      <th>75%</th>\n",
       "      <td>82.000000</td>\n",
       "      <td>571.927500</td>\n",
       "      <td>57.000000</td>\n",
       "      <td>21424.700000</td>\n",
       "      <td>1.000000</td>\n",
       "    </tr>\n",
       "    <tr>\n",
       "      <th>max</th>\n",
       "      <td>244.000000</td>\n",
       "      <td>1632.060000</td>\n",
       "      <td>224.000000</td>\n",
       "      <td>49745.730000</td>\n",
       "      <td>1.000000</td>\n",
       "    </tr>\n",
       "  </tbody>\n",
       "</table>\n",
       "</div>"
      ],
      "text/plain": [
       "             calls      minutes     messages       mb_used     is_ultra\n",
       "count  3214.000000  3214.000000  3214.000000   3214.000000  3214.000000\n",
       "mean     63.038892   438.208787    38.281269  17207.673836     0.306472\n",
       "std      33.236368   234.569872    36.148326   7570.968246     0.461100\n",
       "min       0.000000     0.000000     0.000000      0.000000     0.000000\n",
       "25%      40.000000   274.575000     9.000000  12491.902500     0.000000\n",
       "50%      62.000000   430.600000    30.000000  16943.235000     0.000000\n",
       "75%      82.000000   571.927500    57.000000  21424.700000     1.000000\n",
       "max     244.000000  1632.060000   224.000000  49745.730000     1.000000"
      ]
     },
     "execution_count": 3,
     "metadata": {},
     "output_type": "execute_result"
    }
   ],
   "source": [
    "df.info()\n",
    "df.describe()"
   ]
  },
  {
   "cell_type": "code",
   "execution_count": 4,
   "metadata": {},
   "outputs": [
    {
     "data": {
      "text/plain": [
       "0"
      ]
     },
     "execution_count": 4,
     "metadata": {},
     "output_type": "execute_result"
    }
   ],
   "source": [
    "df.duplicated().sum()"
   ]
  },
  {
   "cell_type": "markdown",
   "metadata": {},
   "source": [
    "En el enunciado nos señalan que los datos ya están procesados. Por lo que vemos, no habría ninguna columna con datos ausentes ni datos repetidos. Siendo ese el caso iremos directamente a la creación del modelo."
   ]
  },
  {
   "cell_type": "markdown",
   "metadata": {},
   "source": [
    "## Modelos de ML\n",
    "\n",
    "Para los diferentes modelos de ML a utilizar, comenzaremos por la segmentación de datos que nos permita obtener nuestros conjuntos de entrenamiento, de validación y uno de prueba.\n",
    "\n",
    "Para efectuar esto, necesitaremos ejecutar la funcion train_test_split dos veces. Posterior a aquello, continuaremos con nuestra tarea de clasificación."
   ]
  },
  {
   "cell_type": "markdown",
   "metadata": {},
   "source": [
    "### Segmentación del Dataset\n",
    "\n",
    "Para el dataset de entrenamiento dejaremos 60% del dataframe total, para el de validación y prueba un 20%"
   ]
  },
  {
   "cell_type": "code",
   "execution_count": 5,
   "metadata": {},
   "outputs": [],
   "source": [
    "#generamos una funcion para dividir nuestro dataset dos veces usando la funcion train_test_split\n",
    "\n",
    "def split_train_val_test(df_input, stratify_colname='y', frac_train=0.6, frac_val=0.2, frac_test=0.2, \n",
    "                         random_state=12345):\n",
    "    \n",
    "\n",
    "    if frac_train + frac_val + frac_test != 1.0: #verifica que la suma de las particiones de 1\n",
    "        raise ValueError('Los elementos %f, %f, %f no suman 1.0' % \\\n",
    "                         (frac_train, frac_val, frac_test))\n",
    "\n",
    "    if stratify_colname not in df_input.columns:\n",
    "        raise ValueError('%s no es una columna en el dataframe' % (stratify_colname))\n",
    "\n",
    "    X = df_input # Posee todas las columnas\n",
    "    y = df_input[[stratify_colname]] # la columna en la cual basamos el analisis\n",
    "\n",
    "    # Divide el dataframe en porciones temporales\n",
    "    df_train, df_temp, y_train, y_temp = train_test_split(X, y, stratify=y, test_size=(1.0 - frac_train),\n",
    "                                                          random_state=random_state)\n",
    "\n",
    "    # Divide finalmente el dataframe utilizando las porciones temporales para obtener las 3 partes\n",
    "    relative_frac_test = frac_test / (frac_val + frac_test)\n",
    "    df_val, df_test, y_val, y_test = train_test_split(df_temp, y_temp, stratify=y_temp, \n",
    "                                                      test_size=relative_frac_test, random_state=random_state)\n",
    "\n",
    "    assert len(df_input) == len(df_train) + len(df_val) + len(df_test) #Verifica la integridad de los datos\n",
    "\n",
    "    return df_train, df_val, df_test"
   ]
  },
  {
   "cell_type": "code",
   "execution_count": 6,
   "metadata": {},
   "outputs": [],
   "source": [
    "df_train, df_val, df_test = split_train_val_test(df, stratify_colname='is_ultra', \n",
    "                                                 frac_train=0.60, frac_val=0.20, frac_test=0.20)"
   ]
  },
  {
   "cell_type": "markdown",
   "metadata": {},
   "source": [
    "Verificando que el dataset haya sido dividido correctamente, utilizamos el atributo Shape para visualizar sus filas y columnas. Sumando sus filas nos da 3214 que es el mismo número total de nuestro dataset completo."
   ]
  },
  {
   "cell_type": "code",
   "execution_count": 7,
   "metadata": {},
   "outputs": [
    {
     "name": "stdout",
     "output_type": "stream",
     "text": [
      "(1928, 5)\n",
      "(643, 5)\n",
      "(643, 5)\n"
     ]
    }
   ],
   "source": [
    "print(df_train.shape)\n",
    "print(df_val.shape)\n",
    "print(df_test.shape)"
   ]
  },
  {
   "cell_type": "markdown",
   "metadata": {},
   "source": [
    "Para crear los elementos necesarios para nuestros modelos, tenemos lo siguiente:"
   ]
  },
  {
   "cell_type": "code",
   "execution_count": 8,
   "metadata": {},
   "outputs": [],
   "source": [
    "features_train = df_train.drop(\"is_ultra\", axis = 1)\n",
    "target_train = df_train[\"is_ultra\"]\n",
    "features_valid = df_val.drop(\"is_ultra\", axis = 1)\n",
    "target_valid = df_val[\"is_ultra\"]\n",
    "features_test = df_test.drop(\"is_ultra\", axis = 1)\n",
    "target_test = df_test[\"is_ultra\"]"
   ]
  },
  {
   "cell_type": "markdown",
   "metadata": {},
   "source": [
    "### Modelo Árbol de Decisión\n",
    "\n",
    "Para el modelo árbol de decisión, haremos una modificación en sus hiperparámetros respecto a su profundidad, dejandola entre 1 y 5 para verificar con qué valor de aquellos nos quedamos."
   ]
  },
  {
   "cell_type": "code",
   "execution_count": 15,
   "metadata": {},
   "outputs": [
    {
     "name": "stdout",
     "output_type": "stream",
     "text": [
      "Profundidad = 5 : 0.7853810264385692 , Calidad conjunto entrenamiento: 0.8137966804979253\n",
      "Calidad del conjunto de prueba: 0.8102643856920684\n"
     ]
    }
   ],
   "source": [
    "tree_score = 0\n",
    "best_depth = 0\n",
    "for a in range(1,6):\n",
    "    model = DecisionTreeClassifier(random_state=1702, max_depth = a)\n",
    "    model.fit(features_train, target_train)\n",
    "    score = model.score(features_train, target_train)\n",
    "    valid_score = model.score(features_valid, target_valid)\n",
    "    if valid_score > tree_score:\n",
    "        tree_score = valid_score\n",
    "        best_depth = a\n",
    "print(\"Profundidad =\", best_depth, \":\", tree_score, \", Calidad conjunto entrenamiento:\", score)\n",
    "test_score = model.score(features_test, target_test)\n",
    "print(\"Calidad del conjunto de prueba:\", test_score)\n",
    "    \n"
   ]
  },
  {
   "cell_type": "markdown",
   "metadata": {},
   "source": [
    "Del resultado anterior, tenemos que para el modelo de árbol de decisión tenemos una calidad de 0.81 en nuestros datos de entrenamiento, con una profundidad de 5 para los árboles. Por el lado del conjunto de validación tenemos una exactitud de 0.785 lo cual es normal ya que el modelo se entrena con sus datos, por ende claramente posee una mayor exactitud que en dataset de validación.\n",
    "\n",
    "Para la exactitud del conjunto de prueba tenemos un valor de 0.81, bastante bueno para el modelo.\n",
    "\n",
    "Pasaremos ahora a revisar otros modelos."
   ]
  },
  {
   "cell_type": "markdown",
   "metadata": {},
   "source": [
    "### Modelo Bosque Aleatorio"
   ]
  },
  {
   "cell_type": "code",
   "execution_count": 16,
   "metadata": {},
   "outputs": [
    {
     "name": "stdout",
     "output_type": "stream",
     "text": [
      "La exactitud en conjunto de validación es (n_estimators =  5 ): 0.7698289269051322\n",
      "La calidad del conjunto de entrenamiento es:  0.9631742738589212\n",
      "La calidad del conjunto de prueba es:  0.7729393468118196\n"
     ]
    }
   ],
   "source": [
    "best_score = 0\n",
    "best_est = 0\n",
    "\n",
    "for est in range(1, 6): # selecciona el rango del hiperparámetro\n",
    "    model2 = RandomForestClassifier(random_state=1702, n_estimators=est) # configura el número de árboles\n",
    "    model2.fit(features_train, target_train) # entrena el modelo en el conjunto de entrenamiento\n",
    "    score2 = model2.score(features_train, target_train)\n",
    "    valid_score2 = model2.score(features_valid, target_valid)\n",
    "    if valid_score2 > best_score:\n",
    "        best_score = valid_score2 #guarda el mejor puntaje o calidad\n",
    "        best_est = est # guarda el número de estimadores que corresponden a la mejor puntuación de exactitud\n",
    "       \n",
    "print(\"La exactitud en conjunto de validación es (n_estimators = \", best_est,\"):\",best_score)\n",
    "print(\"La calidad del conjunto de entrenamiento es: \", score2)\n",
    "test_score2 = model2.score(features_test, target_test)\n",
    "print(\"La calidad del conjunto de prueba es: \", test_score2)"
   ]
  },
  {
   "cell_type": "markdown",
   "metadata": {},
   "source": [
    "Para este modelo, tenemos algo bastante peculiar, pero dentro de los parámetros normales en un modelo. El conjunto de entrenamiento logró una exactitud bastante alta, pero esta decae notoriamente al ser comparada con el conjunto de validación y el de prueba. Esto puede indicar que el modelo está sobreajustado.\n",
    "\n",
    "Eso sí, este modelo cumple con nuestros estándares de selección respecto al umbral de calidad, por ende es un posible candidato a ser el seleccionado."
   ]
  },
  {
   "cell_type": "markdown",
   "metadata": {},
   "source": [
    "### Modelo Regresión Logística"
   ]
  },
  {
   "cell_type": "code",
   "execution_count": 11,
   "metadata": {
    "scrolled": true
   },
   "outputs": [
    {
     "name": "stdout",
     "output_type": "stream",
     "text": [
      "Exactitud del modelo en el conjunto de entrenamiento: 0.7105809128630706\n",
      "Exactitud del modelo en el conjunto de validación: 0.71850699844479\n",
      "Exactitud del modelo en el conjunto de prueba: 0.7107309486780715\n"
     ]
    }
   ],
   "source": [
    "model3 = LogisticRegression(random_state=1702, solver= 'liblinear')\n",
    "model3.fit(features_train, target_train) # entrena el modelo en el conjunto de entrenamiento\n",
    "score_train = model3.score(features_train, target_train) # calcula la exactitud en el conjunto de entrenamiento\n",
    "score_valid = model3.score(features_valid, target_valid)\n",
    "score_test = model3.score(features_test, target_test) # calcula la exactitud en el conjunto de prueba\n",
    "\n",
    "print(\"Exactitud del modelo en el conjunto de entrenamiento:\", score_train)\n",
    "print(\"Exactitud del modelo en el conjunto de validación:\", score_valid)\n",
    "print(\"Exactitud del modelo en el conjunto de prueba:\", score_test)"
   ]
  },
  {
   "cell_type": "markdown",
   "metadata": {},
   "source": [
    "Para este modelo, tenemos que en los 3 dataset nos da una exactitud de 0.71, lo cual nos deja bajo el umbral solicitado en nuestro proyecto, por lo que descartaremos este modelo como el mejor."
   ]
  },
  {
   "cell_type": "markdown",
   "metadata": {},
   "source": [
    "### Selección del mejor Modelo\n",
    "\n",
    "Con nuestros datos de entrenamiento ya ejecutados en los 3 modelos, tenemos que decidir cuál de ellos es el más adecuado para seleccionarlo como el mejor. Ya señalamos anteriormente que el modelo de regresión logística queda descartado debido a que su exactitud da bajo el umbral requerido por el proyecto (0.75). Esto nos deja dos candidatos, El modelo Árbol de Decisión y el Modelo de Bosque Aleatorio.\n",
    "\n",
    "Respecto de los datos que tenemos:\n",
    "\n",
    "    - Modelo Árbol de Decisión: Calidad dataset validación:    0.785\n",
    "                                Calidad dataset prueba:        0.810\n",
    "                                Calidad dataset entrenamiento: 0.813\n",
    "\n",
    "    - Modelo Bosque Aleatorio:  Calidad dataset validación:    0.769\n",
    "                                Calidad dataset prueba:        0.772\n",
    "                                Calidad dataset entrenamiento: 0.963\n",
    "                                \n",
    "Con esto a la vista, queda claro que el modelo más apropiado para seleccionar como el mejor para nuestro dataset completo es el de Árbol de Decisión. Si bien este posee una exactitud más baja para el conjunto de entrenamiento que para el modelo de Bosque Aleatorio, sus valores en los conjuntos de validación y prueba son excelentes en general. Los 3 dataset para el modelo árbol de decisión son muy similares entre sí, lo que señala que no hay un sobreajuste evidente a la vista, no así el caso para el modelo de Bosque Aleatorio.\n",
    "\n",
    "Por lo anterior ya observado, nuestro modelo seleccionado será el Árbol de Decisión.\n",
    "    "
   ]
  },
  {
   "cell_type": "markdown",
   "metadata": {},
   "source": [
    "### Prueba de Cordura del Modelo Seleccionado (Árbol de Decisión)\n",
    "\n",
    "Ya que es un modelo de clasificación, la prueba de cordura debe efectuarse comparando las predicciones efectuadas con la posibilidad aleatoria.\n",
    "\n"
   ]
  },
  {
   "cell_type": "code",
   "execution_count": 61,
   "metadata": {},
   "outputs": [
    {
     "name": "stdout",
     "output_type": "stream",
     "text": [
      "De las 50 primeras filas tenemos las siguientes diferencias: 8\n"
     ]
    }
   ],
   "source": [
    "model = DecisionTreeClassifier(random_state=1702, max_depth = 5)\n",
    "model.fit(features_train, target_train)\n",
    "prediction = model.predict(features_test)\n",
    "compare_table = pd.DataFrame(target_test).reset_index()\n",
    "prediction = pd.Series(prediction)\n",
    "compare_table[\"prediction\"] = prediction\n",
    "compare_table = compare_table.drop(\"index\", axis = 1)\n",
    "compare_table.head(20)\n",
    "conteo = 0\n",
    "for z in range(1,51):\n",
    "    if compare_table[\"is_ultra\"][z] != compare_table[\"prediction\"][z]:\n",
    "        conteo += 1\n",
    "print(\"De las 50 primeras filas tenemos las siguientes diferencias:\", conteo)\n"
   ]
  },
  {
   "cell_type": "markdown",
   "metadata": {},
   "source": [
    "Tomando aquello como muestra, si nuestro dataset fuesen solo aquellas filas, tenemos 42 predicciones correctas del dataset, lo que haciendo cálculos simples nos pone en un porcentaje de 80% de certeza. Muy similar a lo que nos señala nuestro modelo."
   ]
  },
  {
   "cell_type": "code",
   "execution_count": 75,
   "metadata": {},
   "outputs": [
    {
     "data": {
      "text/html": [
       "<div>\n",
       "<style scoped>\n",
       "    .dataframe tbody tr th:only-of-type {\n",
       "        vertical-align: middle;\n",
       "    }\n",
       "\n",
       "    .dataframe tbody tr th {\n",
       "        vertical-align: top;\n",
       "    }\n",
       "\n",
       "    .dataframe thead th {\n",
       "        text-align: right;\n",
       "    }\n",
       "</style>\n",
       "<table border=\"1\" class=\"dataframe\">\n",
       "  <thead>\n",
       "    <tr style=\"text-align: right;\">\n",
       "      <th></th>\n",
       "      <th>is_ultra</th>\n",
       "      <th>prediction</th>\n",
       "    </tr>\n",
       "  </thead>\n",
       "  <tbody>\n",
       "    <tr>\n",
       "      <th>323</th>\n",
       "      <td>0</td>\n",
       "      <td>0</td>\n",
       "    </tr>\n",
       "    <tr>\n",
       "      <th>542</th>\n",
       "      <td>0</td>\n",
       "      <td>0</td>\n",
       "    </tr>\n",
       "    <tr>\n",
       "      <th>441</th>\n",
       "      <td>1</td>\n",
       "      <td>0</td>\n",
       "    </tr>\n",
       "    <tr>\n",
       "      <th>535</th>\n",
       "      <td>0</td>\n",
       "      <td>0</td>\n",
       "    </tr>\n",
       "    <tr>\n",
       "      <th>558</th>\n",
       "      <td>0</td>\n",
       "      <td>0</td>\n",
       "    </tr>\n",
       "    <tr>\n",
       "      <th>43</th>\n",
       "      <td>1</td>\n",
       "      <td>0</td>\n",
       "    </tr>\n",
       "    <tr>\n",
       "      <th>0</th>\n",
       "      <td>0</td>\n",
       "      <td>0</td>\n",
       "    </tr>\n",
       "    <tr>\n",
       "      <th>552</th>\n",
       "      <td>0</td>\n",
       "      <td>0</td>\n",
       "    </tr>\n",
       "    <tr>\n",
       "      <th>600</th>\n",
       "      <td>0</td>\n",
       "      <td>1</td>\n",
       "    </tr>\n",
       "    <tr>\n",
       "      <th>601</th>\n",
       "      <td>1</td>\n",
       "      <td>1</td>\n",
       "    </tr>\n",
       "  </tbody>\n",
       "</table>\n",
       "</div>"
      ],
      "text/plain": [
       "     is_ultra  prediction\n",
       "323         0           0\n",
       "542         0           0\n",
       "441         1           0\n",
       "535         0           0\n",
       "558         0           0\n",
       "43          1           0\n",
       "0           0           0\n",
       "552         0           0\n",
       "600         0           1\n",
       "601         1           1"
      ]
     },
     "execution_count": 75,
     "metadata": {},
     "output_type": "execute_result"
    }
   ],
   "source": [
    "compare_table.sample(10)"
   ]
  },
  {
   "cell_type": "markdown",
   "metadata": {},
   "source": [
    "En este ejemplo tenemos en un total de 10 datos, 3 errores lo cual nos da un valor de 70% aproximado en su certeza, muy acorde a la realidad del modelo."
   ]
  },
  {
   "cell_type": "markdown",
   "metadata": {},
   "source": [
    "## Conclusiones\n",
    "\n",
    "Habiendo concluido los 3 modelos, puedo señalar que efectivamente siempre dependerá de los datos que se tengan a disposición, la selección del mismo. En este caso sorprendió que el modelo Árbol de Decisión fuese el seleccionado por sobre el Bosque Aleatorio. Uno pensaría que ya que el bosque aleatorio genera muchas más instancias, sería más preciso en su búsqueda de una mejor exactitud, independiente de la velocidad (ya que el dataset no contenía tantos datos). Sin embargo, no fue el caso ya que si bien su exactitud era extremadamente alta en el conjunto de entrenamiento, no lo fue así en el de validación y prueba, lo que señala que seguramente se sobreajustó.\n",
    "\n",
    "\n",
    "Claramente, Megaline debe utilizar para este dataset seleccionado, el modelo de Árbol de Decisión para efectuar la recomendación de planes Ultra o Smart en los clientes venideros. El modelo demostró ser el más robusto y parejo dentro de las exactitudes en los dataset de entrenamiento, validación y prueba."
   ]
  }
 ],
 "metadata": {
  "ExecuteTimeLog": [
   {
    "duration": 773,
    "start_time": "2024-10-04T11:36:07.996Z"
   },
   {
    "duration": 2,
    "start_time": "2024-10-04T11:36:12.032Z"
   },
   {
    "duration": 156,
    "start_time": "2024-10-04T13:42:26.092Z"
   },
   {
    "duration": 759,
    "start_time": "2024-10-04T13:42:29.405Z"
   },
   {
    "duration": 371,
    "start_time": "2024-10-04T13:42:31.025Z"
   },
   {
    "duration": 20,
    "start_time": "2024-10-04T13:42:42.332Z"
   },
   {
    "duration": 12,
    "start_time": "2024-10-04T13:42:54.141Z"
   },
   {
    "duration": 9,
    "start_time": "2024-10-04T13:45:54.072Z"
   },
   {
    "duration": 22,
    "start_time": "2024-10-04T13:47:01.811Z"
   },
   {
    "duration": 6,
    "start_time": "2024-10-04T13:48:35.246Z"
   },
   {
    "duration": 6,
    "start_time": "2024-10-04T13:48:43.859Z"
   },
   {
    "duration": 5,
    "start_time": "2024-10-04T13:48:49.594Z"
   },
   {
    "duration": 6,
    "start_time": "2024-10-04T13:48:56.549Z"
   },
   {
    "duration": 774,
    "start_time": "2024-10-04T18:29:03.204Z"
   },
   {
    "duration": 23,
    "start_time": "2024-10-04T18:29:03.980Z"
   },
   {
    "duration": 23,
    "start_time": "2024-10-04T18:29:04.005Z"
   },
   {
    "duration": 6,
    "start_time": "2024-10-04T18:29:04.031Z"
   },
   {
    "duration": 32,
    "start_time": "2024-10-04T18:29:55.551Z"
   },
   {
    "duration": 13,
    "start_time": "2024-10-04T18:29:59.382Z"
   },
   {
    "duration": 22,
    "start_time": "2024-10-04T18:30:02.307Z"
   },
   {
    "duration": 5,
    "start_time": "2024-10-04T18:30:05.450Z"
   },
   {
    "duration": 2,
    "start_time": "2024-10-04T18:34:28.001Z"
   },
   {
    "duration": 253,
    "start_time": "2024-10-04T18:50:08.435Z"
   },
   {
    "duration": 2,
    "start_time": "2024-10-04T18:51:25.569Z"
   },
   {
    "duration": 7,
    "start_time": "2024-10-04T19:50:22.882Z"
   },
   {
    "duration": 6,
    "start_time": "2024-10-04T19:51:55.375Z"
   },
   {
    "duration": 168,
    "start_time": "2024-10-04T19:53:04.856Z"
   },
   {
    "duration": 12,
    "start_time": "2024-10-04T19:53:15.834Z"
   },
   {
    "duration": 4,
    "start_time": "2024-10-04T19:53:21.803Z"
   },
   {
    "duration": 12,
    "start_time": "2024-10-04T19:53:24.428Z"
   },
   {
    "duration": 836,
    "start_time": "2024-10-04T19:53:37.413Z"
   },
   {
    "duration": 24,
    "start_time": "2024-10-04T19:53:38.251Z"
   },
   {
    "duration": 23,
    "start_time": "2024-10-04T19:53:38.277Z"
   },
   {
    "duration": 6,
    "start_time": "2024-10-04T19:53:38.302Z"
   },
   {
    "duration": 4,
    "start_time": "2024-10-04T19:53:38.310Z"
   },
   {
    "duration": 21,
    "start_time": "2024-10-04T19:53:38.333Z"
   },
   {
    "duration": 21,
    "start_time": "2024-10-04T19:53:54.222Z"
   },
   {
    "duration": 5,
    "start_time": "2024-10-04T19:54:03.544Z"
   },
   {
    "duration": 3,
    "start_time": "2024-10-04T19:54:22.700Z"
   },
   {
    "duration": 4,
    "start_time": "2024-10-04T19:54:40.449Z"
   },
   {
    "duration": 5,
    "start_time": "2024-10-04T19:55:06.585Z"
   },
   {
    "duration": 4,
    "start_time": "2024-10-04T19:56:09.116Z"
   },
   {
    "duration": 3,
    "start_time": "2024-10-04T19:56:45.651Z"
   },
   {
    "duration": 12,
    "start_time": "2024-10-04T19:56:54.256Z"
   },
   {
    "duration": 4,
    "start_time": "2024-10-04T20:00:04.882Z"
   },
   {
    "duration": 2,
    "start_time": "2024-10-04T20:21:45.179Z"
   },
   {
    "duration": 241,
    "start_time": "2024-10-04T20:30:16.608Z"
   },
   {
    "duration": 4,
    "start_time": "2024-10-04T20:30:31.938Z"
   },
   {
    "duration": 42,
    "start_time": "2024-10-04T20:30:36.210Z"
   },
   {
    "duration": 26,
    "start_time": "2024-10-04T20:30:50.794Z"
   },
   {
    "duration": 37,
    "start_time": "2024-10-04T20:39:17.795Z"
   },
   {
    "duration": 27,
    "start_time": "2024-10-04T20:39:24.060Z"
   },
   {
    "duration": 27,
    "start_time": "2024-10-04T20:39:34.355Z"
   },
   {
    "duration": 25,
    "start_time": "2024-10-04T20:40:37.213Z"
   },
   {
    "duration": 737,
    "start_time": "2024-10-04T21:05:15.164Z"
   },
   {
    "duration": 22,
    "start_time": "2024-10-04T21:05:15.903Z"
   },
   {
    "duration": 23,
    "start_time": "2024-10-04T21:05:15.927Z"
   },
   {
    "duration": 5,
    "start_time": "2024-10-04T21:05:15.953Z"
   },
   {
    "duration": 4,
    "start_time": "2024-10-04T21:05:15.971Z"
   },
   {
    "duration": 20,
    "start_time": "2024-10-04T21:05:15.977Z"
   },
   {
    "duration": 2,
    "start_time": "2024-10-04T21:05:15.999Z"
   },
   {
    "duration": 26,
    "start_time": "2024-10-04T21:05:16.003Z"
   },
   {
    "duration": 27,
    "start_time": "2024-10-04T21:05:25.696Z"
   },
   {
    "duration": 50,
    "start_time": "2024-10-04T21:06:29.723Z"
   },
   {
    "duration": 87,
    "start_time": "2024-10-04T21:06:34.613Z"
   },
   {
    "duration": 24,
    "start_time": "2024-10-04T21:06:54.229Z"
   },
   {
    "duration": 9,
    "start_time": "2024-10-04T21:09:46.124Z"
   },
   {
    "duration": 26,
    "start_time": "2024-10-04T21:09:50.846Z"
   },
   {
    "duration": 5,
    "start_time": "2024-10-04T21:11:04.980Z"
   },
   {
    "duration": 6,
    "start_time": "2024-10-04T21:12:25.065Z"
   },
   {
    "duration": 20,
    "start_time": "2024-10-04T21:12:28.593Z"
   },
   {
    "duration": 27,
    "start_time": "2024-10-04T21:14:22.300Z"
   },
   {
    "duration": 39,
    "start_time": "2024-10-04T21:15:34.273Z"
   },
   {
    "duration": 32,
    "start_time": "2024-10-04T21:16:22.457Z"
   },
   {
    "duration": 32,
    "start_time": "2024-10-04T21:16:50.355Z"
   },
   {
    "duration": 32,
    "start_time": "2024-10-04T21:16:58.337Z"
   },
   {
    "duration": 30,
    "start_time": "2024-10-04T21:17:09.010Z"
   },
   {
    "duration": 760,
    "start_time": "2024-10-05T18:06:41.024Z"
   },
   {
    "duration": 22,
    "start_time": "2024-10-05T18:06:41.787Z"
   },
   {
    "duration": 21,
    "start_time": "2024-10-05T18:06:41.811Z"
   },
   {
    "duration": 12,
    "start_time": "2024-10-05T18:06:41.834Z"
   },
   {
    "duration": 4,
    "start_time": "2024-10-05T18:06:41.848Z"
   },
   {
    "duration": 19,
    "start_time": "2024-10-05T18:06:41.854Z"
   },
   {
    "duration": 2,
    "start_time": "2024-10-05T18:06:41.875Z"
   },
   {
    "duration": 33,
    "start_time": "2024-10-05T18:06:41.879Z"
   },
   {
    "duration": 3,
    "start_time": "2024-10-05T18:32:24.040Z"
   },
   {
    "duration": 6,
    "start_time": "2024-10-05T18:35:00.967Z"
   },
   {
    "duration": 230,
    "start_time": "2024-10-05T18:35:27.255Z"
   },
   {
    "duration": 201,
    "start_time": "2024-10-05T18:35:51.242Z"
   },
   {
    "duration": 202,
    "start_time": "2024-10-05T18:36:27.781Z"
   },
   {
    "duration": 201,
    "start_time": "2024-10-05T18:37:27.312Z"
   },
   {
    "duration": 138,
    "start_time": "2024-10-05T18:38:04.536Z"
   },
   {
    "duration": 37,
    "start_time": "2024-10-05T18:38:58.533Z"
   },
   {
    "duration": 199,
    "start_time": "2024-10-05T18:39:06.474Z"
   },
   {
    "duration": 196,
    "start_time": "2024-10-05T18:39:46.763Z"
   },
   {
    "duration": 166,
    "start_time": "2024-10-05T18:39:57.406Z"
   },
   {
    "duration": 12,
    "start_time": "2024-10-05T18:40:01.646Z"
   },
   {
    "duration": 49,
    "start_time": "2024-10-05T18:40:05.333Z"
   },
   {
    "duration": 64,
    "start_time": "2024-10-05T18:40:08.072Z"
   },
   {
    "duration": 84,
    "start_time": "2024-10-05T18:40:11.928Z"
   },
   {
    "duration": 15183,
    "start_time": "2024-10-05T18:40:36.320Z"
   },
   {
    "duration": 20,
    "start_time": "2024-10-05T18:41:33.206Z"
   },
   {
    "duration": 6,
    "start_time": "2024-10-05T18:42:04.304Z"
   },
   {
    "duration": 21,
    "start_time": "2024-10-05T18:42:09.214Z"
   },
   {
    "duration": 46,
    "start_time": "2024-10-05T18:42:12.504Z"
   },
   {
    "duration": 166,
    "start_time": "2024-10-05T18:42:18.852Z"
   },
   {
    "duration": 637,
    "start_time": "2024-10-05T18:42:29.372Z"
   },
   {
    "duration": 5,
    "start_time": "2024-10-05T18:44:05.982Z"
   },
   {
    "duration": 624,
    "start_time": "2024-10-05T18:44:14.209Z"
   },
   {
    "duration": 197,
    "start_time": "2024-10-05T18:44:22.025Z"
   },
   {
    "duration": 665,
    "start_time": "2024-10-05T18:44:25.995Z"
   },
   {
    "duration": 149,
    "start_time": "2024-10-05T18:44:37.160Z"
   },
   {
    "duration": 625,
    "start_time": "2024-10-05T18:52:54.415Z"
   },
   {
    "duration": 623,
    "start_time": "2024-10-05T18:53:58.169Z"
   },
   {
    "duration": 129,
    "start_time": "2024-10-05T18:57:03.964Z"
   },
   {
    "duration": 53,
    "start_time": "2024-10-05T18:57:35.300Z"
   },
   {
    "duration": 51,
    "start_time": "2024-10-05T18:59:31.242Z"
   },
   {
    "duration": 51,
    "start_time": "2024-10-05T19:00:12.986Z"
   },
   {
    "duration": 129,
    "start_time": "2024-10-05T19:00:16.327Z"
   },
   {
    "duration": 139,
    "start_time": "2024-10-05T19:00:25.270Z"
   },
   {
    "duration": 696,
    "start_time": "2024-10-05T19:00:28.116Z"
   },
   {
    "duration": 6,
    "start_time": "2024-10-05T19:33:27.576Z"
   },
   {
    "duration": 735,
    "start_time": "2024-10-05T19:33:34.864Z"
   },
   {
    "duration": 728,
    "start_time": "2024-10-05T19:33:54.131Z"
   },
   {
    "duration": 728,
    "start_time": "2024-10-05T19:34:13.807Z"
   },
   {
    "duration": 734,
    "start_time": "2024-10-05T19:34:23.933Z"
   },
   {
    "duration": 142,
    "start_time": "2024-10-05T19:35:03.141Z"
   },
   {
    "duration": 141,
    "start_time": "2024-10-05T19:35:12.272Z"
   },
   {
    "duration": 160,
    "start_time": "2024-10-05T19:35:30.330Z"
   },
   {
    "duration": 140,
    "start_time": "2024-10-05T19:35:54.148Z"
   },
   {
    "duration": 729,
    "start_time": "2024-10-05T19:39:06.785Z"
   },
   {
    "duration": 154,
    "start_time": "2024-10-05T19:40:17.864Z"
   },
   {
    "duration": 156,
    "start_time": "2024-10-05T19:40:27.772Z"
   },
   {
    "duration": 736,
    "start_time": "2024-10-05T19:40:43.990Z"
   },
   {
    "duration": 156,
    "start_time": "2024-10-05T19:41:15.531Z"
   },
   {
    "duration": 160,
    "start_time": "2024-10-05T19:43:18.344Z"
   },
   {
    "duration": 66,
    "start_time": "2024-10-05T19:43:22.047Z"
   },
   {
    "duration": 31,
    "start_time": "2024-10-05T19:43:27.052Z"
   },
   {
    "duration": 156,
    "start_time": "2024-10-05T19:43:35.350Z"
   },
   {
    "duration": 732,
    "start_time": "2024-10-05T19:46:07.733Z"
   },
   {
    "duration": 736,
    "start_time": "2024-10-05T19:46:50.897Z"
   },
   {
    "duration": 740,
    "start_time": "2024-10-05T19:48:19.064Z"
   },
   {
    "duration": 733,
    "start_time": "2024-10-05T19:48:36.305Z"
   },
   {
    "duration": 739,
    "start_time": "2024-10-05T19:48:48.827Z"
   },
   {
    "duration": 751,
    "start_time": "2024-10-05T19:49:48.687Z"
   },
   {
    "duration": 99,
    "start_time": "2024-10-05T19:55:25.227Z"
   },
   {
    "duration": 32,
    "start_time": "2024-10-05T19:55:30.372Z"
   },
   {
    "duration": 71,
    "start_time": "2024-10-05T19:55:56.565Z"
   },
   {
    "duration": 63,
    "start_time": "2024-10-05T19:56:44.386Z"
   },
   {
    "duration": 71,
    "start_time": "2024-10-05T19:56:56.948Z"
   },
   {
    "duration": 69,
    "start_time": "2024-10-05T19:58:34.243Z"
   },
   {
    "duration": 74,
    "start_time": "2024-10-05T20:03:46.839Z"
   },
   {
    "duration": 15,
    "start_time": "2024-10-05T20:10:48.433Z"
   },
   {
    "duration": 3,
    "start_time": "2024-10-05T20:11:00.550Z"
   },
   {
    "duration": 22,
    "start_time": "2024-10-05T20:11:03.388Z"
   },
   {
    "duration": 10,
    "start_time": "2024-10-05T20:11:32.107Z"
   },
   {
    "duration": 10,
    "start_time": "2024-10-05T20:12:50.978Z"
   },
   {
    "duration": 11,
    "start_time": "2024-10-05T20:13:31.286Z"
   },
   {
    "duration": 4,
    "start_time": "2024-10-05T20:14:17.646Z"
   },
   {
    "duration": 31,
    "start_time": "2024-10-05T20:14:20.275Z"
   },
   {
    "duration": 10,
    "start_time": "2024-10-05T20:15:19.622Z"
   },
   {
    "duration": 5,
    "start_time": "2024-10-05T20:23:16.471Z"
   },
   {
    "duration": 69,
    "start_time": "2024-10-05T20:36:49.954Z"
   },
   {
    "duration": 10,
    "start_time": "2024-10-05T20:37:00.391Z"
   },
   {
    "duration": 11,
    "start_time": "2024-10-05T20:37:24.809Z"
   },
   {
    "duration": 69,
    "start_time": "2024-10-05T20:40:33.785Z"
   },
   {
    "duration": 70,
    "start_time": "2024-10-05T20:51:09.856Z"
   },
   {
    "duration": 10,
    "start_time": "2024-10-05T20:51:18.796Z"
   },
   {
    "duration": 31,
    "start_time": "2024-10-05T20:51:26.046Z"
   },
   {
    "duration": 10,
    "start_time": "2024-10-05T21:18:24.679Z"
   },
   {
    "duration": 72,
    "start_time": "2024-10-05T21:18:40.341Z"
   },
   {
    "duration": 30,
    "start_time": "2024-10-05T21:18:58.347Z"
   },
   {
    "duration": 4,
    "start_time": "2024-10-05T21:19:53.187Z"
   },
   {
    "duration": 3,
    "start_time": "2024-10-05T21:19:57.808Z"
   },
   {
    "duration": 3,
    "start_time": "2024-10-05T21:20:01.673Z"
   },
   {
    "duration": 7,
    "start_time": "2024-10-05T21:22:52.691Z"
   },
   {
    "duration": 6,
    "start_time": "2024-10-05T21:23:04.752Z"
   },
   {
    "duration": 7,
    "start_time": "2024-10-05T21:23:21.565Z"
   },
   {
    "duration": 6,
    "start_time": "2024-10-05T21:23:37.912Z"
   },
   {
    "duration": 6,
    "start_time": "2024-10-05T21:24:04.361Z"
   },
   {
    "duration": 7,
    "start_time": "2024-10-05T21:24:07.081Z"
   },
   {
    "duration": 7,
    "start_time": "2024-10-05T21:24:09.050Z"
   },
   {
    "duration": 6,
    "start_time": "2024-10-05T21:24:10.446Z"
   },
   {
    "duration": 6,
    "start_time": "2024-10-05T21:24:12.419Z"
   },
   {
    "duration": 6,
    "start_time": "2024-10-05T21:24:16.525Z"
   },
   {
    "duration": 9,
    "start_time": "2024-10-05T21:25:08.211Z"
   },
   {
    "duration": 9,
    "start_time": "2024-10-05T21:25:13.228Z"
   },
   {
    "duration": 6,
    "start_time": "2024-10-05T21:25:20.338Z"
   },
   {
    "duration": 6,
    "start_time": "2024-10-05T21:25:49.323Z"
   },
   {
    "duration": 9,
    "start_time": "2024-10-05T21:26:01.848Z"
   },
   {
    "duration": 8,
    "start_time": "2024-10-05T21:26:04.685Z"
   },
   {
    "duration": 7,
    "start_time": "2024-10-05T21:26:08.980Z"
   },
   {
    "duration": 6,
    "start_time": "2024-10-05T21:26:12.364Z"
   },
   {
    "duration": 6,
    "start_time": "2024-10-05T21:26:15.911Z"
   },
   {
    "duration": 6,
    "start_time": "2024-10-05T21:26:27.561Z"
   },
   {
    "duration": 8,
    "start_time": "2024-10-05T21:26:33.723Z"
   },
   {
    "duration": 7,
    "start_time": "2024-10-05T21:26:49.234Z"
   },
   {
    "duration": 355,
    "start_time": "2024-10-05T21:29:05.145Z"
   },
   {
    "duration": 204,
    "start_time": "2024-10-05T21:29:48.636Z"
   },
   {
    "duration": 47,
    "start_time": "2024-10-05T21:30:03.892Z"
   },
   {
    "duration": 33,
    "start_time": "2024-10-05T21:30:12.389Z"
   },
   {
    "duration": 6,
    "start_time": "2024-10-05T21:30:41.830Z"
   },
   {
    "duration": 47,
    "start_time": "2024-10-05T21:31:02.890Z"
   },
   {
    "duration": 5,
    "start_time": "2024-10-05T21:31:42.123Z"
   },
   {
    "duration": 17,
    "start_time": "2024-10-05T21:31:57.074Z"
   },
   {
    "duration": 3,
    "start_time": "2024-10-05T21:31:59.837Z"
   },
   {
    "duration": 15,
    "start_time": "2024-10-05T21:32:02.985Z"
   },
   {
    "duration": 10,
    "start_time": "2024-10-05T21:32:14.947Z"
   },
   {
    "duration": 5,
    "start_time": "2024-10-05T21:32:50.206Z"
   },
   {
    "duration": 7,
    "start_time": "2024-10-05T21:32:53.471Z"
   },
   {
    "duration": 16,
    "start_time": "2024-10-05T21:33:11.077Z"
   },
   {
    "duration": 6,
    "start_time": "2024-10-05T21:33:26.789Z"
   },
   {
    "duration": 43,
    "start_time": "2024-10-05T21:33:57.915Z"
   },
   {
    "duration": 5,
    "start_time": "2024-10-05T21:34:07.095Z"
   },
   {
    "duration": 7,
    "start_time": "2024-10-05T21:34:28.984Z"
   },
   {
    "duration": 16,
    "start_time": "2024-10-05T21:35:17.356Z"
   },
   {
    "duration": 4,
    "start_time": "2024-10-05T21:35:29.292Z"
   },
   {
    "duration": 16,
    "start_time": "2024-10-05T21:35:40.372Z"
   },
   {
    "duration": 16,
    "start_time": "2024-10-05T21:35:45.514Z"
   },
   {
    "duration": 4,
    "start_time": "2024-10-05T21:36:04.164Z"
   },
   {
    "duration": 6,
    "start_time": "2024-10-05T21:36:12.122Z"
   },
   {
    "duration": 47,
    "start_time": "2024-10-05T21:36:53.671Z"
   },
   {
    "duration": 48,
    "start_time": "2024-10-05T21:37:26.900Z"
   },
   {
    "duration": 16,
    "start_time": "2024-10-05T21:37:47.297Z"
   },
   {
    "duration": 45,
    "start_time": "2024-10-05T21:37:58.684Z"
   },
   {
    "duration": 5,
    "start_time": "2024-10-05T21:38:09.641Z"
   },
   {
    "duration": 5,
    "start_time": "2024-10-05T21:38:20.284Z"
   },
   {
    "duration": 14,
    "start_time": "2024-10-05T21:38:37.977Z"
   },
   {
    "duration": 5,
    "start_time": "2024-10-05T21:39:13.911Z"
   },
   {
    "duration": 7,
    "start_time": "2024-10-05T21:39:20.246Z"
   },
   {
    "duration": 5,
    "start_time": "2024-10-05T21:39:59.125Z"
   },
   {
    "duration": 6,
    "start_time": "2024-10-05T21:40:12.536Z"
   },
   {
    "duration": 5,
    "start_time": "2024-10-05T21:41:45.382Z"
   },
   {
    "duration": 9,
    "start_time": "2024-10-05T21:41:49.352Z"
   },
   {
    "duration": 13,
    "start_time": "2024-10-05T21:42:40.453Z"
   },
   {
    "duration": 7,
    "start_time": "2024-10-05T21:43:46.649Z"
   },
   {
    "duration": 13,
    "start_time": "2024-10-05T21:43:54.337Z"
   },
   {
    "duration": 8,
    "start_time": "2024-10-05T21:44:38.594Z"
   },
   {
    "duration": 17,
    "start_time": "2024-10-05T21:44:45.626Z"
   },
   {
    "duration": 6,
    "start_time": "2024-10-05T21:44:50.431Z"
   },
   {
    "duration": 7,
    "start_time": "2024-10-05T21:44:53.847Z"
   },
   {
    "duration": 7,
    "start_time": "2024-10-05T21:45:07.642Z"
   },
   {
    "duration": 7,
    "start_time": "2024-10-05T21:45:16.731Z"
   },
   {
    "duration": 22,
    "start_time": "2024-10-05T21:45:26.842Z"
   },
   {
    "duration": 4,
    "start_time": "2024-10-05T21:45:38.699Z"
   },
   {
    "duration": 48,
    "start_time": "2024-10-05T21:45:42.232Z"
   },
   {
    "duration": 47,
    "start_time": "2024-10-05T21:45:45.913Z"
   },
   {
    "duration": 6,
    "start_time": "2024-10-05T21:46:02.987Z"
   },
   {
    "duration": 10,
    "start_time": "2024-10-05T21:46:11.737Z"
   },
   {
    "duration": 7,
    "start_time": "2024-10-05T21:46:38.138Z"
   },
   {
    "duration": 8,
    "start_time": "2024-10-05T21:46:46.143Z"
   },
   {
    "duration": 11,
    "start_time": "2024-10-05T21:47:13.164Z"
   },
   {
    "duration": 6,
    "start_time": "2024-10-05T21:47:33.646Z"
   },
   {
    "duration": 8,
    "start_time": "2024-10-05T21:47:41.295Z"
   },
   {
    "duration": 9,
    "start_time": "2024-10-05T21:48:00.822Z"
   },
   {
    "duration": 10,
    "start_time": "2024-10-05T21:48:49.598Z"
   },
   {
    "duration": 11,
    "start_time": "2024-10-05T21:49:07.307Z"
   },
   {
    "duration": 7,
    "start_time": "2024-10-05T21:49:18.378Z"
   },
   {
    "duration": 10,
    "start_time": "2024-10-05T21:49:45.590Z"
   },
   {
    "duration": 10,
    "start_time": "2024-10-05T21:49:55.765Z"
   },
   {
    "duration": 4,
    "start_time": "2024-10-05T21:50:20.876Z"
   },
   {
    "duration": 4,
    "start_time": "2024-10-05T21:50:23.489Z"
   },
   {
    "duration": 8,
    "start_time": "2024-10-05T21:50:26.134Z"
   },
   {
    "duration": 20,
    "start_time": "2024-10-05T21:50:42.934Z"
   },
   {
    "duration": 11,
    "start_time": "2024-10-05T21:51:09.745Z"
   },
   {
    "duration": 9,
    "start_time": "2024-10-05T21:51:14.552Z"
   },
   {
    "duration": 8,
    "start_time": "2024-10-05T21:51:37.268Z"
   },
   {
    "duration": 36,
    "start_time": "2024-10-05T21:56:25.580Z"
   },
   {
    "duration": 34,
    "start_time": "2024-10-05T21:56:54.607Z"
   },
   {
    "duration": 34,
    "start_time": "2024-10-05T21:57:26.866Z"
   },
   {
    "duration": 82,
    "start_time": "2024-10-05T22:01:01.069Z"
   },
   {
    "duration": 10,
    "start_time": "2024-10-05T22:01:35.396Z"
   },
   {
    "duration": 11,
    "start_time": "2024-10-05T22:01:50.936Z"
   },
   {
    "duration": 11,
    "start_time": "2024-10-05T22:02:07.014Z"
   },
   {
    "duration": 74,
    "start_time": "2024-10-05T22:05:35.371Z"
   },
   {
    "duration": 79,
    "start_time": "2024-10-05T22:05:50.735Z"
   },
   {
    "duration": 31,
    "start_time": "2024-10-05T22:06:07.539Z"
   },
   {
    "duration": 8,
    "start_time": "2024-10-05T22:08:32.807Z"
   },
   {
    "duration": 57,
    "start_time": "2024-10-05T22:19:01.020Z"
   },
   {
    "duration": 28,
    "start_time": "2024-10-05T22:19:05.997Z"
   },
   {
    "duration": 705,
    "start_time": "2024-10-05T22:19:10.325Z"
   },
   {
    "duration": 76,
    "start_time": "2024-10-05T22:19:17.408Z"
   },
   {
    "duration": 12,
    "start_time": "2024-10-05T22:23:18.717Z"
   },
   {
    "duration": 74,
    "start_time": "2024-10-05T22:24:38.403Z"
   },
   {
    "duration": 32,
    "start_time": "2024-10-05T22:24:41.470Z"
   },
   {
    "duration": 5,
    "start_time": "2024-10-05T22:41:59.119Z"
   },
   {
    "duration": 21,
    "start_time": "2024-10-05T22:42:01.197Z"
   },
   {
    "duration": 756,
    "start_time": "2024-10-06T14:34:57.067Z"
   },
   {
    "duration": 20,
    "start_time": "2024-10-06T14:34:57.825Z"
   },
   {
    "duration": 21,
    "start_time": "2024-10-06T14:34:57.847Z"
   },
   {
    "duration": 5,
    "start_time": "2024-10-06T14:34:57.870Z"
   },
   {
    "duration": 5,
    "start_time": "2024-10-06T14:34:57.878Z"
   },
   {
    "duration": 20,
    "start_time": "2024-10-06T14:34:57.905Z"
   },
   {
    "duration": 3,
    "start_time": "2024-10-06T14:34:57.928Z"
   },
   {
    "duration": 5,
    "start_time": "2024-10-06T14:34:57.933Z"
   },
   {
    "duration": 30,
    "start_time": "2024-10-06T14:34:57.940Z"
   },
   {
    "duration": 97,
    "start_time": "2024-10-06T14:34:57.972Z"
   },
   {
    "duration": 10,
    "start_time": "2024-10-06T14:34:58.071Z"
   },
   {
    "duration": 31,
    "start_time": "2024-10-06T14:44:52.119Z"
   },
   {
    "duration": 32,
    "start_time": "2024-10-06T14:45:19.591Z"
   },
   {
    "duration": 32,
    "start_time": "2024-10-06T14:45:38.811Z"
   },
   {
    "duration": 32,
    "start_time": "2024-10-06T14:57:38.925Z"
   },
   {
    "duration": 73,
    "start_time": "2024-10-06T14:59:05.845Z"
   },
   {
    "duration": 4,
    "start_time": "2024-10-06T15:23:12.333Z"
   },
   {
    "duration": 5,
    "start_time": "2024-10-06T15:23:15.471Z"
   },
   {
    "duration": 5,
    "start_time": "2024-10-06T15:23:20.041Z"
   },
   {
    "duration": 510,
    "start_time": "2024-10-06T15:23:39.621Z"
   },
   {
    "duration": 44,
    "start_time": "2024-10-06T15:23:54.298Z"
   },
   {
    "duration": 4,
    "start_time": "2024-10-06T15:23:59.974Z"
   },
   {
    "duration": 4,
    "start_time": "2024-10-06T15:24:12.193Z"
   },
   {
    "duration": 14,
    "start_time": "2024-10-06T15:24:17.835Z"
   },
   {
    "duration": 13,
    "start_time": "2024-10-06T15:24:20.508Z"
   },
   {
    "duration": 4,
    "start_time": "2024-10-06T15:24:37.651Z"
   },
   {
    "duration": 13,
    "start_time": "2024-10-06T15:25:13.399Z"
   },
   {
    "duration": 86,
    "start_time": "2024-10-06T15:27:41.327Z"
   },
   {
    "duration": 19,
    "start_time": "2024-10-06T15:28:20.582Z"
   },
   {
    "duration": 11,
    "start_time": "2024-10-06T15:28:26.623Z"
   },
   {
    "duration": 12,
    "start_time": "2024-10-06T15:28:33.008Z"
   },
   {
    "duration": 10,
    "start_time": "2024-10-06T15:28:40.187Z"
   },
   {
    "duration": 9,
    "start_time": "2024-10-06T15:28:47.338Z"
   },
   {
    "duration": 19,
    "start_time": "2024-10-06T15:28:58.543Z"
   },
   {
    "duration": 18,
    "start_time": "2024-10-06T15:29:09.650Z"
   },
   {
    "duration": 11,
    "start_time": "2024-10-06T15:29:16.047Z"
   },
   {
    "duration": 11,
    "start_time": "2024-10-06T15:29:22.928Z"
   },
   {
    "duration": 20,
    "start_time": "2024-10-06T15:30:23.626Z"
   },
   {
    "duration": 9,
    "start_time": "2024-10-06T15:30:31.985Z"
   },
   {
    "duration": 12,
    "start_time": "2024-10-06T15:30:40.118Z"
   },
   {
    "duration": 11,
    "start_time": "2024-10-06T15:30:46.863Z"
   },
   {
    "duration": 12,
    "start_time": "2024-10-06T15:31:14.835Z"
   },
   {
    "duration": 12,
    "start_time": "2024-10-06T15:31:38.861Z"
   },
   {
    "duration": 11,
    "start_time": "2024-10-06T15:31:48.420Z"
   },
   {
    "duration": 10,
    "start_time": "2024-10-06T15:31:55.976Z"
   },
   {
    "duration": 10,
    "start_time": "2024-10-06T15:32:29.898Z"
   },
   {
    "duration": 13,
    "start_time": "2024-10-06T15:32:38.797Z"
   },
   {
    "duration": 14,
    "start_time": "2024-10-06T15:33:04.125Z"
   },
   {
    "duration": 15,
    "start_time": "2024-10-06T15:33:12.283Z"
   },
   {
    "duration": 15,
    "start_time": "2024-10-06T15:33:34.320Z"
   },
   {
    "duration": 14,
    "start_time": "2024-10-06T15:34:01.324Z"
   },
   {
    "duration": 15,
    "start_time": "2024-10-06T15:34:58.517Z"
   },
   {
    "duration": 24,
    "start_time": "2024-10-06T15:37:39.665Z"
   },
   {
    "duration": 26,
    "start_time": "2024-10-06T15:37:47.016Z"
   },
   {
    "duration": 283,
    "start_time": "2024-10-06T15:38:43.999Z"
   },
   {
    "duration": 12,
    "start_time": "2024-10-06T15:39:10.719Z"
   },
   {
    "duration": 12,
    "start_time": "2024-10-06T15:39:35.988Z"
   },
   {
    "duration": 16,
    "start_time": "2024-10-06T15:39:44.038Z"
   },
   {
    "duration": 17,
    "start_time": "2024-10-06T15:39:51.820Z"
   },
   {
    "duration": 13,
    "start_time": "2024-10-06T15:40:04.817Z"
   },
   {
    "duration": 12,
    "start_time": "2024-10-06T15:46:55.530Z"
   },
   {
    "duration": 4,
    "start_time": "2024-10-06T15:47:50.106Z"
   },
   {
    "duration": 4,
    "start_time": "2024-10-06T15:48:04.731Z"
   },
   {
    "duration": 4,
    "start_time": "2024-10-06T15:48:17.330Z"
   },
   {
    "duration": 4,
    "start_time": "2024-10-06T15:48:22.426Z"
   },
   {
    "duration": 4,
    "start_time": "2024-10-06T15:49:57.512Z"
   },
   {
    "duration": 4,
    "start_time": "2024-10-06T15:50:01.920Z"
   },
   {
    "duration": 6,
    "start_time": "2024-10-06T15:51:14.029Z"
   },
   {
    "duration": 6,
    "start_time": "2024-10-06T15:52:59.466Z"
   },
   {
    "duration": 6,
    "start_time": "2024-10-06T15:53:05.205Z"
   },
   {
    "duration": 6,
    "start_time": "2024-10-06T15:53:09.617Z"
   },
   {
    "duration": 6,
    "start_time": "2024-10-06T15:53:13.895Z"
   },
   {
    "duration": 6,
    "start_time": "2024-10-06T15:53:16.998Z"
   },
   {
    "duration": 5,
    "start_time": "2024-10-06T15:53:22.563Z"
   },
   {
    "duration": 6,
    "start_time": "2024-10-06T15:53:36.635Z"
   },
   {
    "duration": 3,
    "start_time": "2024-10-06T16:04:47.769Z"
   }
  ],
  "kernelspec": {
   "display_name": "Python 3 (ipykernel)",
   "language": "python",
   "name": "python3"
  },
  "language_info": {
   "codemirror_mode": {
    "name": "ipython",
    "version": 3
   },
   "file_extension": ".py",
   "mimetype": "text/x-python",
   "name": "python",
   "nbconvert_exporter": "python",
   "pygments_lexer": "ipython3",
   "version": "3.9.19"
  },
  "toc": {
   "base_numbering": 1,
   "nav_menu": {},
   "number_sections": true,
   "sideBar": true,
   "skip_h1_title": true,
   "title_cell": "Table of Contents",
   "title_sidebar": "Contents",
   "toc_cell": false,
   "toc_position": {
    "height": "calc(100% - 180px)",
    "left": "10px",
    "top": "150px",
    "width": "284.797px"
   },
   "toc_section_display": true,
   "toc_window_display": false
  }
 },
 "nbformat": 4,
 "nbformat_minor": 2
}
